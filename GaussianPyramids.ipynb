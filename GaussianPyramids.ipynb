{
 "cells": [
  {
   "cell_type": "markdown",
   "metadata": {
    "toc": true
   },
   "source": [
    "<h1>Table of Contents<span class=\"tocSkip\"></span></h1>\n",
    "<div class=\"toc\"><ul class=\"toc-item\"><li><span><a href=\"#Dense-SIFT-in-a-Gaussian-Pyramid\" data-toc-modified-id=\"Dense-SIFT-in-a-Gaussian-Pyramid-1\"><span class=\"toc-item-num\">1&nbsp;&nbsp;</span>Dense SIFT in a Gaussian Pyramid</a></span></li><li><span><a href=\"#Feature-Extraction\" data-toc-modified-id=\"Feature-Extraction-2\"><span class=\"toc-item-num\">2&nbsp;&nbsp;</span>Feature Extraction</a></span></li><li><span><a href=\"#Classification\" data-toc-modified-id=\"Classification-3\"><span class=\"toc-item-num\">3&nbsp;&nbsp;</span>Classification</a></span></li><li><span><a href=\"#Optimization\" data-toc-modified-id=\"Optimization-4\"><span class=\"toc-item-num\">4&nbsp;&nbsp;</span>Optimization</a></span></li><li><span><a href=\"#Classifier-optimization\" data-toc-modified-id=\"Classifier-optimization-5\"><span class=\"toc-item-num\">5&nbsp;&nbsp;</span>Classifier optimization</a></span></li><li><span><a href=\"#MLP-Classifier-Optimization\" data-toc-modified-id=\"MLP-Classifier-Optimization-6\"><span class=\"toc-item-num\">6&nbsp;&nbsp;</span>MLP Classifier Optimization</a></span></li></ul></div>"
   ]
  },
  {
   "cell_type": "code",
   "execution_count": 1,
   "metadata": {},
   "outputs": [],
   "source": [
    "import os\n",
    "import sys\n",
    "\n",
    "sys.path.insert(0, os.path.abspath('../../'))"
   ]
  },
  {
   "cell_type": "code",
   "execution_count": 2,
   "metadata": {},
   "outputs": [],
   "source": [
    "import logging\n",
    "from random import shuffle\n",
    "\n",
    "import cv2 as cv2\n",
    "import matplotlib.pyplot as plt\n",
    "import numpy as np\n",
    "from joblib import dump, load\n",
    "from sklearn.cluster import KMeans, MiniBatchKMeans\n",
    "from sklearn.metrics import accuracy_score\n",
    "from sklearn.model_selection import StratifiedShuffleSplit, train_test_split\n",
    "from sklearn.multiclass import OneVsRestClassifier\n",
    "from sklearn.preprocessing import normalize, scale\n",
    "from sklearn.svm import SVC\n",
    "from matplotlib.pyplot import figure\n",
    "from sklearn.neural_network import MLPClassifier\n",
    "from sklearn.neighbors import KNeighborsClassifier\n",
    "from sklearn.svm import SVC\n",
    "from sklearn.gaussian_process import GaussianProcessClassifier\n",
    "from sklearn.gaussian_process.kernels import RBF\n",
    "from sklearn.tree import DecisionTreeClassifier\n",
    "from sklearn.ensemble import RandomForestClassifier, AdaBoostClassifier\n",
    "from sklearn.naive_bayes import GaussianNB\n",
    "from sklearn.discriminant_analysis import QuadraticDiscriminantAnalysis\n",
    "from sklearn.decomposition import PCA\n",
    "import pandas as pd\n",
    "from tpot import TPOTClassifier\n",
    "from sklearn import preprocessing\n",
    "from sklearn.metrics import confusion_matrix\n",
    "import itertools\n",
    "import warnings\n",
    "import numpy as np\n",
    "import matplotlib.pyplot as plt\n",
    "from skimage.transform import pyramid_gaussian\n",
    "warnings.filterwarnings('ignore')\n",
    "\n",
    "from src.misc.data import load_labelled, load_unlabelled\n",
    "from src.misc.ops import crop_to_square, resize\n",
    "from src.misc.visualise import *"
   ]
  },
  {
   "cell_type": "code",
   "execution_count": 3,
   "metadata": {},
   "outputs": [
    {
     "name": "stderr",
     "output_type": "stream",
     "text": [
      "INFO: Loading labelled data from C:\\Users\\hp\\Desktop\\University of Southampton\\MSc AI\\Computer Vision\\Assignments\\3\\comp6223-scene-recognition-master\\src\\misc/../../data/training.\n",
      "INFO: Class name          Number of samples   \n",
      "INFO: ----------------------------------------\n",
      "INFO: bedroom             100                 \n",
      "INFO: Coast               100                 \n",
      "INFO: Forest              100                 \n",
      "INFO: Highway             100                 \n",
      "INFO: industrial          100                 \n",
      "INFO: Insidecity          100                 \n",
      "INFO: kitchen             100                 \n",
      "INFO: livingroom          100                 \n",
      "INFO: Mountain            100                 \n",
      "INFO: Office              100                 \n",
      "INFO: OpenCountry         100                 \n",
      "INFO: store               100                 \n",
      "INFO: Street              100                 \n",
      "INFO: Suburb              100                 \n",
      "INFO: TallBuilding        100                 \n",
      "INFO: Loaded 15 classes. Total number of samples is 1500.\n"
     ]
    }
   ],
   "source": [
    "# Set up logging.\n",
    "logging.basicConfig(format='%(levelname)s: %(message)s', level=logging.INFO)\n",
    "\n",
    "# Load training data.\n",
    "x, y = load_labelled('../../data/training')\n",
    "labels = sorted(set(y))"
   ]
  },
  {
   "cell_type": "code",
   "execution_count": 4,
   "metadata": {},
   "outputs": [],
   "source": [
    "x_np = np.array(x)\n",
    "y_np = np.array(y)"
   ]
  },
  {
   "cell_type": "code",
   "execution_count": 5,
   "metadata": {},
   "outputs": [],
   "source": [
    "sss = StratifiedShuffleSplit(n_splits=1, test_size=0.33, random_state=2019)\n",
    "for train_index, test_index in sss.split(x_np, y_np):\n",
    "    x_train, x_test = x_np[train_index], x_np[test_index]\n",
    "    y_train, y_test = y_np[train_index], y_np[test_index]"
   ]
  },
  {
   "cell_type": "markdown",
   "metadata": {},
   "source": [
    "## Dense SIFT in a Gaussian Pyramid"
   ]
  },
  {
   "cell_type": "code",
   "execution_count": 24,
   "metadata": {},
   "outputs": [],
   "source": [
    "def pyramids(image, step_size = 5):\n",
    "    descriptors = []\n",
    "    scaled = []\n",
    "    for resized in pyramid_gaussian(image, downscale=1.2):\n",
    "        scaled.append(resized)\n",
    "    for i in scaled[:4]:\n",
    "        sift = cv2.xfeatures2d.SIFT_create()\n",
    "        image8bit = cv2.normalize(i, None, 0, 255, cv2.NORM_MINMAX).astype('uint8')\n",
    "        kp = [cv2.KeyPoint(x, y, step_size) for y in range(0, image8bit.shape[0], step_size) \n",
    "                                    for x in range(0, image8bit.shape[1], step_size)]\n",
    "        # kps, descs = sift.detectAndCompute(image8bit, None)\n",
    "        #print(np.array(descs).shape)\n",
    "        kps, descs = sift.compute(image8bit, kp)\n",
    "        descriptors.append(descs)\n",
    "    return np.vstack(descriptors) "
   ]
  },
  {
   "cell_type": "code",
   "execution_count": 7,
   "metadata": {},
   "outputs": [],
   "source": [
    "flatten = lambda l: (item for sublist in l for item in sublist)\n",
    "patchgen = lambda x: (pyramids(img) for img in x)\n",
    "zero_mean = lambda x: (scale(patches) for patches in x)\n",
    "unit_len = lambda x: (normalize(patches) for patches in x)\n",
    "histgen = lambda x, quantizer: (np.histogram(\n",
    "    quantizer.predict(patches),\n",
    "    bins=quantizer.cluster_centers_.shape[0],\n",
    "#     bins=500,\n",
    "    density=False)[0]/quantizer.cluster_centers_.shape[0] for patches in x)"
   ]
  },
  {
   "cell_type": "markdown",
   "metadata": {},
   "source": [
    "## Feature Extraction"
   ]
  },
  {
   "cell_type": "code",
   "execution_count": 8,
   "metadata": {},
   "outputs": [],
   "source": [
    "patches_train = list(unit_len(zero_mean(patchgen(x_train))))\n",
    "patches_test = list(unit_len(zero_mean(patchgen(x_test))))\n",
    "bovw_train = list(flatten(patches_train))"
   ]
  },
  {
   "cell_type": "code",
   "execution_count": 9,
   "metadata": {},
   "outputs": [],
   "source": [
    "kmeans = MiniBatchKMeans(n_clusters=250, random_state=2019, batch_size=50000)"
   ]
  },
  {
   "cell_type": "code",
   "execution_count": 10,
   "metadata": {},
   "outputs": [
    {
     "data": {
      "text/plain": [
       "MiniBatchKMeans(batch_size=50000, compute_labels=True, init='k-means++',\n",
       "                init_size=None, max_iter=100, max_no_improvement=10,\n",
       "                n_clusters=250, n_init=3, random_state=2019,\n",
       "                reassignment_ratio=0.01, tol=0.0, verbose=0)"
      ]
     },
     "execution_count": 10,
     "metadata": {},
     "output_type": "execute_result"
    }
   ],
   "source": [
    "kmeans.fit(bovw_train)"
   ]
  },
  {
   "cell_type": "code",
   "execution_count": 11,
   "metadata": {},
   "outputs": [],
   "source": [
    "svm_train = list(histgen(patches_train, kmeans))\n",
    "svm_test = list(histgen(patches_test, kmeans))"
   ]
  },
  {
   "cell_type": "markdown",
   "metadata": {},
   "source": [
    "## Classification"
   ]
  },
  {
   "cell_type": "code",
   "execution_count": 12,
   "metadata": {},
   "outputs": [
    {
     "data": {
      "text/plain": [
       "0.9741293532338309"
      ]
     },
     "execution_count": 12,
     "metadata": {},
     "output_type": "execute_result"
    }
   ],
   "source": [
    "clf = OneVsRestClassifier(SVC(kernel='linear', C=4.0)).fit(svm_train, y_train)\n",
    "y_pred = clf.predict(svm_train)\n",
    "accuracy_score(y_train, y_pred)"
   ]
  },
  {
   "cell_type": "code",
   "execution_count": 13,
   "metadata": {},
   "outputs": [
    {
     "data": {
      "text/plain": [
       "0.5595959595959596"
      ]
     },
     "execution_count": 13,
     "metadata": {},
     "output_type": "execute_result"
    }
   ],
   "source": [
    "y_pred = clf.predict(svm_test)\n",
    "accuracy_score(y_test, y_pred)"
   ]
  },
  {
   "cell_type": "code",
   "execution_count": 22,
   "metadata": {},
   "outputs": [
    {
     "data": {
      "text/plain": [
       "0.6202020202020202"
      ]
     },
     "execution_count": 22,
     "metadata": {},
     "output_type": "execute_result"
    }
   ],
   "source": [
    "clf = OneVsRestClassifier(MLPClassifier(batch_size='auto', beta_1=0.9, beta_2=0.999,\n",
    "                               early_stopping=False, epsilon=1e-08,\n",
    "                               hidden_layer_sizes=(100,),\n",
    "                               learning_rate='constant',\n",
    "                               learning_rate_init=0.001, max_iter=200,\n",
    "                               momentum=0.9, n_iter_no_change=10,\n",
    "                               nesterovs_momentum=True, power_t=0.5,\n",
    "                               random_state=None, shuffle=True, solver='adam',\n",
    "                               tol=0.0001, validation_fraction=0.1,\n",
    "                               verbose=False, warm_start=False)).fit(svm_train, y_train)\n",
    "y_pred = clf.predict(svm_test)\n",
    "accuracy_score(y_test, y_pred)"
   ]
  },
  {
   "cell_type": "markdown",
   "metadata": {},
   "source": [
    "## Optimization"
   ]
  },
  {
   "cell_type": "code",
   "execution_count": 25,
   "metadata": {},
   "outputs": [
    {
     "name": "stdout",
     "output_type": "stream",
     "text": [
      "Number of clusters: 50, Accuracy: 0.501010101010101\n",
      "Number of clusters: 150, Accuracy: 0.5898989898989899\n",
      "Number of clusters: 250, Accuracy: 0.6222222222222222\n",
      "Number of clusters: 350, Accuracy: 0.6080808080808081\n",
      "Number of clusters: 450, Accuracy: 0.6060606060606061\n",
      "Number of clusters: 550, Accuracy: 0.5737373737373738\n",
      "Number of clusters: 650, Accuracy: 0.6202020202020202\n"
     ]
    },
    {
     "ename": "KeyboardInterrupt",
     "evalue": "",
     "output_type": "error",
     "traceback": [
      "\u001b[1;31m---------------------------------------------------------------------------\u001b[0m",
      "\u001b[1;31mKeyboardInterrupt\u001b[0m                         Traceback (most recent call last)",
      "\u001b[1;32m<ipython-input-25-05e457524d5c>\u001b[0m in \u001b[0;36m<module>\u001b[1;34m\u001b[0m\n\u001b[0;32m      3\u001b[0m \u001b[1;32mfor\u001b[0m \u001b[0msize\u001b[0m \u001b[1;32min\u001b[0m \u001b[0mrange\u001b[0m\u001b[1;33m(\u001b[0m\u001b[1;36m50\u001b[0m\u001b[1;33m,\u001b[0m \u001b[1;36m800\u001b[0m\u001b[1;33m,\u001b[0m \u001b[1;36m100\u001b[0m\u001b[1;33m)\u001b[0m\u001b[1;33m:\u001b[0m\u001b[1;33m\u001b[0m\u001b[1;33m\u001b[0m\u001b[0m\n\u001b[0;32m      4\u001b[0m     \u001b[0mkmeans\u001b[0m \u001b[1;33m=\u001b[0m \u001b[0mMiniBatchKMeans\u001b[0m\u001b[1;33m(\u001b[0m\u001b[0mn_clusters\u001b[0m\u001b[1;33m=\u001b[0m \u001b[0msize\u001b[0m\u001b[1;33m,\u001b[0m \u001b[0mrandom_state\u001b[0m\u001b[1;33m=\u001b[0m\u001b[1;36m2019\u001b[0m\u001b[1;33m,\u001b[0m \u001b[0mbatch_size\u001b[0m\u001b[1;33m=\u001b[0m\u001b[1;36m50000\u001b[0m\u001b[1;33m)\u001b[0m\u001b[1;33m\u001b[0m\u001b[1;33m\u001b[0m\u001b[0m\n\u001b[1;32m----> 5\u001b[1;33m     \u001b[0mkmeans\u001b[0m\u001b[1;33m.\u001b[0m\u001b[0mfit\u001b[0m\u001b[1;33m(\u001b[0m\u001b[0mbovw_train\u001b[0m\u001b[1;33m)\u001b[0m\u001b[1;33m\u001b[0m\u001b[1;33m\u001b[0m\u001b[0m\n\u001b[0m\u001b[0;32m      6\u001b[0m     \u001b[0msvm_train\u001b[0m \u001b[1;33m=\u001b[0m \u001b[0mlist\u001b[0m\u001b[1;33m(\u001b[0m\u001b[0mhistgen\u001b[0m\u001b[1;33m(\u001b[0m\u001b[0mpatches_train\u001b[0m\u001b[1;33m,\u001b[0m \u001b[0mkmeans\u001b[0m\u001b[1;33m)\u001b[0m\u001b[1;33m)\u001b[0m\u001b[1;33m\u001b[0m\u001b[1;33m\u001b[0m\u001b[0m\n\u001b[0;32m      7\u001b[0m     \u001b[0msvm_test\u001b[0m \u001b[1;33m=\u001b[0m \u001b[0mlist\u001b[0m\u001b[1;33m(\u001b[0m\u001b[0mhistgen\u001b[0m\u001b[1;33m(\u001b[0m\u001b[0mpatches_test\u001b[0m\u001b[1;33m,\u001b[0m \u001b[0mkmeans\u001b[0m\u001b[1;33m)\u001b[0m\u001b[1;33m)\u001b[0m\u001b[1;33m\u001b[0m\u001b[1;33m\u001b[0m\u001b[0m\n",
      "\u001b[1;32m~\\AppData\\Roaming\\Python\\Python37\\site-packages\\sklearn\\cluster\\k_means_.py\u001b[0m in \u001b[0;36mfit\u001b[1;34m(self, X, y, sample_weight)\u001b[0m\n\u001b[0;32m   1593\u001b[0m             \u001b[1;31m# Perform the actual update step on the minibatch data\u001b[0m\u001b[1;33m\u001b[0m\u001b[1;33m\u001b[0m\u001b[1;33m\u001b[0m\u001b[0m\n\u001b[0;32m   1594\u001b[0m             batch_inertia, centers_squared_diff = _mini_batch_step(\n\u001b[1;32m-> 1595\u001b[1;33m                 \u001b[0mX\u001b[0m\u001b[1;33m[\u001b[0m\u001b[0mminibatch_indices\u001b[0m\u001b[1;33m]\u001b[0m\u001b[1;33m,\u001b[0m \u001b[0msample_weight\u001b[0m\u001b[1;33m[\u001b[0m\u001b[0mminibatch_indices\u001b[0m\u001b[1;33m]\u001b[0m\u001b[1;33m,\u001b[0m\u001b[1;33m\u001b[0m\u001b[1;33m\u001b[0m\u001b[0m\n\u001b[0m\u001b[0;32m   1596\u001b[0m                 \u001b[0mx_squared_norms\u001b[0m\u001b[1;33m[\u001b[0m\u001b[0mminibatch_indices\u001b[0m\u001b[1;33m]\u001b[0m\u001b[1;33m,\u001b[0m\u001b[1;33m\u001b[0m\u001b[1;33m\u001b[0m\u001b[0m\n\u001b[0;32m   1597\u001b[0m                 \u001b[0mself\u001b[0m\u001b[1;33m.\u001b[0m\u001b[0mcluster_centers_\u001b[0m\u001b[1;33m,\u001b[0m \u001b[0mself\u001b[0m\u001b[1;33m.\u001b[0m\u001b[0mcounts_\u001b[0m\u001b[1;33m,\u001b[0m\u001b[1;33m\u001b[0m\u001b[1;33m\u001b[0m\u001b[0m\n",
      "\u001b[1;31mKeyboardInterrupt\u001b[0m: "
     ]
    }
   ],
   "source": [
    "n_cls = []\n",
    "acc = []\n",
    "for size in range(50, 800, 100):\n",
    "    kmeans = MiniBatchKMeans(n_clusters= size, random_state=2019, batch_size=50000)\n",
    "    kmeans.fit(bovw_train)\n",
    "    svm_train = list(histgen(patches_train, kmeans))\n",
    "    svm_test = list(histgen(patches_test, kmeans))\n",
    "    clf = MLPClassifier(batch_size='auto', beta_1=0.9, beta_2=0.999,\n",
    "                               early_stopping=False, epsilon=1e-08,\n",
    "                               hidden_layer_sizes=(100,),\n",
    "                               learning_rate='constant',\n",
    "                               learning_rate_init=0.001, max_iter=200,\n",
    "                               momentum=0.9, n_iter_no_change=10,\n",
    "                               nesterovs_momentum=True, power_t=0.5,\n",
    "                               random_state=None, shuffle=True, solver='adam',\n",
    "                               tol=0.0001, validation_fraction=0.1,\n",
    "                               verbose=False, warm_start=False).fit(svm_train, y_train)\n",
    "    y_pred = clf.predict(svm_test)\n",
    "    res = accuracy_score(y_test, y_pred)\n",
    "    print(\"Number of clusters: \" + str(size) + \", Accuracy: \" + str(res))\n",
    "    acc.append(res)\n",
    "    n_cls.append(size)"
   ]
  },
  {
   "cell_type": "code",
   "execution_count": 26,
   "metadata": {},
   "outputs": [
    {
     "data": {
      "text/plain": [
       "(0, 1)"
      ]
     },
     "execution_count": 26,
     "metadata": {},
     "output_type": "execute_result"
    },
    {
     "data": {
      "image/png": "[encoded data removed]",
      "text/plain": [
       "<Figure size 432x288 with 1 Axes>"
      ]
     },
     "metadata": {
      "needs_background": "light"
     },
     "output_type": "display_data"
    }
   ],
   "source": [
    "plt.plot(n_cls, acc)\n",
    "plt.xlabel('Number of clusters')\n",
    "plt.ylabel('Validation Set Accuracy')\n",
    "plt.title('Number of Clusters Optimization')\n",
    "plt.ylim([0, 1])"
   ]
  },
  {
   "cell_type": "code",
   "execution_count": 29,
   "metadata": {},
   "outputs": [
    {
     "name": "stdout",
     "output_type": "stream",
     "text": [
      "Step Size: 10, Accuracy: 0.509090909090909\n",
      "Step Size: 15, Accuracy: 0.4\n"
     ]
    },
    {
     "ename": "KeyboardInterrupt",
     "evalue": "",
     "output_type": "error",
     "traceback": [
      "\u001b[1;31m---------------------------------------------------------------------------\u001b[0m",
      "\u001b[1;31mKeyboardInterrupt\u001b[0m                         Traceback (most recent call last)",
      "\u001b[1;32m<ipython-input-29-1937996e3539>\u001b[0m in \u001b[0;36m<module>\u001b[1;34m\u001b[0m\n\u001b[0;32m      3\u001b[0m \u001b[1;32mfor\u001b[0m \u001b[0mstep\u001b[0m \u001b[1;32min\u001b[0m \u001b[0mrange\u001b[0m\u001b[1;33m(\u001b[0m\u001b[1;36m10\u001b[0m\u001b[1;33m,\u001b[0m \u001b[1;36m25\u001b[0m\u001b[1;33m,\u001b[0m \u001b[1;36m5\u001b[0m\u001b[1;33m)\u001b[0m\u001b[1;33m:\u001b[0m\u001b[1;33m\u001b[0m\u001b[1;33m\u001b[0m\u001b[0m\n\u001b[0;32m      4\u001b[0m     \u001b[0mpatches_train\u001b[0m \u001b[1;33m=\u001b[0m \u001b[0mlist\u001b[0m\u001b[1;33m(\u001b[0m\u001b[0munit_len\u001b[0m\u001b[1;33m(\u001b[0m\u001b[0mzero_mean\u001b[0m\u001b[1;33m(\u001b[0m\u001b[1;33m[\u001b[0m\u001b[0mpyramids\u001b[0m\u001b[1;33m(\u001b[0m\u001b[0mimg\u001b[0m\u001b[1;33m,\u001b[0m \u001b[0mstep_size\u001b[0m \u001b[1;33m=\u001b[0m \u001b[0mstep\u001b[0m\u001b[1;33m)\u001b[0m \u001b[1;32mfor\u001b[0m \u001b[0mimg\u001b[0m \u001b[1;32min\u001b[0m \u001b[0mx_train\u001b[0m\u001b[1;33m]\u001b[0m\u001b[1;33m)\u001b[0m\u001b[1;33m)\u001b[0m\u001b[1;33m)\u001b[0m\u001b[1;33m\u001b[0m\u001b[1;33m\u001b[0m\u001b[0m\n\u001b[1;32m----> 5\u001b[1;33m     \u001b[0mpatches_test\u001b[0m \u001b[1;33m=\u001b[0m \u001b[0mlist\u001b[0m\u001b[1;33m(\u001b[0m\u001b[0munit_len\u001b[0m\u001b[1;33m(\u001b[0m\u001b[0mzero_mean\u001b[0m\u001b[1;33m(\u001b[0m\u001b[1;33m[\u001b[0m\u001b[0mpyramids\u001b[0m\u001b[1;33m(\u001b[0m\u001b[0mimg\u001b[0m\u001b[1;33m,\u001b[0m \u001b[0mstep_size\u001b[0m \u001b[1;33m=\u001b[0m \u001b[0mstep\u001b[0m\u001b[1;33m)\u001b[0m \u001b[1;32mfor\u001b[0m \u001b[0mimg\u001b[0m \u001b[1;32min\u001b[0m \u001b[0mx_test\u001b[0m\u001b[1;33m]\u001b[0m\u001b[1;33m)\u001b[0m\u001b[1;33m)\u001b[0m\u001b[1;33m)\u001b[0m\u001b[1;33m\u001b[0m\u001b[1;33m\u001b[0m\u001b[0m\n\u001b[0m\u001b[0;32m      6\u001b[0m     \u001b[0mbovw_train\u001b[0m \u001b[1;33m=\u001b[0m \u001b[0mlist\u001b[0m\u001b[1;33m(\u001b[0m\u001b[0mflatten\u001b[0m\u001b[1;33m(\u001b[0m\u001b[0mpatches_train\u001b[0m\u001b[1;33m)\u001b[0m\u001b[1;33m)\u001b[0m\u001b[1;33m\u001b[0m\u001b[1;33m\u001b[0m\u001b[0m\n\u001b[0;32m      7\u001b[0m     \u001b[0mkmeans\u001b[0m \u001b[1;33m=\u001b[0m \u001b[0mMiniBatchKMeans\u001b[0m\u001b[1;33m(\u001b[0m\u001b[0mn_clusters\u001b[0m\u001b[1;33m=\u001b[0m \u001b[1;36m250\u001b[0m\u001b[1;33m,\u001b[0m \u001b[0mrandom_state\u001b[0m\u001b[1;33m=\u001b[0m\u001b[1;36m2019\u001b[0m\u001b[1;33m,\u001b[0m \u001b[0mbatch_size\u001b[0m\u001b[1;33m=\u001b[0m\u001b[1;36m50000\u001b[0m\u001b[1;33m)\u001b[0m\u001b[1;33m\u001b[0m\u001b[1;33m\u001b[0m\u001b[0m\n",
      "\u001b[1;32m<ipython-input-29-1937996e3539>\u001b[0m in \u001b[0;36m<listcomp>\u001b[1;34m(.0)\u001b[0m\n\u001b[0;32m      3\u001b[0m \u001b[1;32mfor\u001b[0m \u001b[0mstep\u001b[0m \u001b[1;32min\u001b[0m \u001b[0mrange\u001b[0m\u001b[1;33m(\u001b[0m\u001b[1;36m10\u001b[0m\u001b[1;33m,\u001b[0m \u001b[1;36m25\u001b[0m\u001b[1;33m,\u001b[0m \u001b[1;36m5\u001b[0m\u001b[1;33m)\u001b[0m\u001b[1;33m:\u001b[0m\u001b[1;33m\u001b[0m\u001b[1;33m\u001b[0m\u001b[0m\n\u001b[0;32m      4\u001b[0m     \u001b[0mpatches_train\u001b[0m \u001b[1;33m=\u001b[0m \u001b[0mlist\u001b[0m\u001b[1;33m(\u001b[0m\u001b[0munit_len\u001b[0m\u001b[1;33m(\u001b[0m\u001b[0mzero_mean\u001b[0m\u001b[1;33m(\u001b[0m\u001b[1;33m[\u001b[0m\u001b[0mpyramids\u001b[0m\u001b[1;33m(\u001b[0m\u001b[0mimg\u001b[0m\u001b[1;33m,\u001b[0m \u001b[0mstep_size\u001b[0m \u001b[1;33m=\u001b[0m \u001b[0mstep\u001b[0m\u001b[1;33m)\u001b[0m \u001b[1;32mfor\u001b[0m \u001b[0mimg\u001b[0m \u001b[1;32min\u001b[0m \u001b[0mx_train\u001b[0m\u001b[1;33m]\u001b[0m\u001b[1;33m)\u001b[0m\u001b[1;33m)\u001b[0m\u001b[1;33m)\u001b[0m\u001b[1;33m\u001b[0m\u001b[1;33m\u001b[0m\u001b[0m\n\u001b[1;32m----> 5\u001b[1;33m     \u001b[0mpatches_test\u001b[0m \u001b[1;33m=\u001b[0m \u001b[0mlist\u001b[0m\u001b[1;33m(\u001b[0m\u001b[0munit_len\u001b[0m\u001b[1;33m(\u001b[0m\u001b[0mzero_mean\u001b[0m\u001b[1;33m(\u001b[0m\u001b[1;33m[\u001b[0m\u001b[0mpyramids\u001b[0m\u001b[1;33m(\u001b[0m\u001b[0mimg\u001b[0m\u001b[1;33m,\u001b[0m \u001b[0mstep_size\u001b[0m \u001b[1;33m=\u001b[0m \u001b[0mstep\u001b[0m\u001b[1;33m)\u001b[0m \u001b[1;32mfor\u001b[0m \u001b[0mimg\u001b[0m \u001b[1;32min\u001b[0m \u001b[0mx_test\u001b[0m\u001b[1;33m]\u001b[0m\u001b[1;33m)\u001b[0m\u001b[1;33m)\u001b[0m\u001b[1;33m)\u001b[0m\u001b[1;33m\u001b[0m\u001b[1;33m\u001b[0m\u001b[0m\n\u001b[0m\u001b[0;32m      6\u001b[0m     \u001b[0mbovw_train\u001b[0m \u001b[1;33m=\u001b[0m \u001b[0mlist\u001b[0m\u001b[1;33m(\u001b[0m\u001b[0mflatten\u001b[0m\u001b[1;33m(\u001b[0m\u001b[0mpatches_train\u001b[0m\u001b[1;33m)\u001b[0m\u001b[1;33m)\u001b[0m\u001b[1;33m\u001b[0m\u001b[1;33m\u001b[0m\u001b[0m\n\u001b[0;32m      7\u001b[0m     \u001b[0mkmeans\u001b[0m \u001b[1;33m=\u001b[0m \u001b[0mMiniBatchKMeans\u001b[0m\u001b[1;33m(\u001b[0m\u001b[0mn_clusters\u001b[0m\u001b[1;33m=\u001b[0m \u001b[1;36m250\u001b[0m\u001b[1;33m,\u001b[0m \u001b[0mrandom_state\u001b[0m\u001b[1;33m=\u001b[0m\u001b[1;36m2019\u001b[0m\u001b[1;33m,\u001b[0m \u001b[0mbatch_size\u001b[0m\u001b[1;33m=\u001b[0m\u001b[1;36m50000\u001b[0m\u001b[1;33m)\u001b[0m\u001b[1;33m\u001b[0m\u001b[1;33m\u001b[0m\u001b[0m\n",
      "\u001b[1;32m<ipython-input-24-51ec67a5f642>\u001b[0m in \u001b[0;36mpyramids\u001b[1;34m(image, step_size)\u001b[0m\n\u001b[0;32m     11\u001b[0m         \u001b[1;31m# kps, descs = sift.detectAndCompute(image8bit, None)\u001b[0m\u001b[1;33m\u001b[0m\u001b[1;33m\u001b[0m\u001b[1;33m\u001b[0m\u001b[0m\n\u001b[0;32m     12\u001b[0m         \u001b[1;31m#print(np.array(descs).shape)\u001b[0m\u001b[1;33m\u001b[0m\u001b[1;33m\u001b[0m\u001b[1;33m\u001b[0m\u001b[0m\n\u001b[1;32m---> 13\u001b[1;33m         \u001b[0mkps\u001b[0m\u001b[1;33m,\u001b[0m \u001b[0mdescs\u001b[0m \u001b[1;33m=\u001b[0m \u001b[0msift\u001b[0m\u001b[1;33m.\u001b[0m\u001b[0mcompute\u001b[0m\u001b[1;33m(\u001b[0m\u001b[0mimage8bit\u001b[0m\u001b[1;33m,\u001b[0m \u001b[0mkp\u001b[0m\u001b[1;33m)\u001b[0m\u001b[1;33m\u001b[0m\u001b[1;33m\u001b[0m\u001b[0m\n\u001b[0m\u001b[0;32m     14\u001b[0m         \u001b[0mdescriptors\u001b[0m\u001b[1;33m.\u001b[0m\u001b[0mappend\u001b[0m\u001b[1;33m(\u001b[0m\u001b[0mdescs\u001b[0m\u001b[1;33m)\u001b[0m\u001b[1;33m\u001b[0m\u001b[1;33m\u001b[0m\u001b[0m\n\u001b[0;32m     15\u001b[0m     \u001b[1;32mreturn\u001b[0m \u001b[0mnp\u001b[0m\u001b[1;33m.\u001b[0m\u001b[0mvstack\u001b[0m\u001b[1;33m(\u001b[0m\u001b[0mdescriptors\u001b[0m\u001b[1;33m)\u001b[0m\u001b[1;33m\u001b[0m\u001b[1;33m\u001b[0m\u001b[0m\n",
      "\u001b[1;31mKeyboardInterrupt\u001b[0m: "
     ]
    }
   ],
   "source": [
    "n_cls = []\n",
    "acc = []\n",
    "for step in range(10, 25, 5): \n",
    "    patches_train = list(unit_len(zero_mean([pyramids(img, step_size = step) for img in x_train])))\n",
    "    patches_test = list(unit_len(zero_mean([pyramids(img, step_size = step) for img in x_test])))\n",
    "    bovw_train = list(flatten(patches_train))\n",
    "    kmeans = MiniBatchKMeans(n_clusters= 250, random_state=2019, batch_size=50000)\n",
    "    kmeans.fit(bovw_train)\n",
    "    svm_train = list(histgen(patches_train, kmeans))\n",
    "    svm_test = list(histgen(patches_test, kmeans))\n",
    "    clf = MLPClassifier(batch_size='auto', beta_1=0.9, beta_2=0.999,\n",
    "                               early_stopping=False, epsilon=1e-08,\n",
    "                               hidden_layer_sizes=(100,),\n",
    "                               learning_rate='constant',\n",
    "                               learning_rate_init=0.001, max_iter=200,\n",
    "                               momentum=0.9, n_iter_no_change=10,\n",
    "                               nesterovs_momentum=True, power_t=0.5,\n",
    "                               random_state=None, shuffle=True, solver='adam',\n",
    "                               tol=0.0001, validation_fraction=0.1,\n",
    "                               verbose=False, warm_start=False).fit(svm_train, y_train)\n",
    "    y_pred = clf.predict(svm_test)\n",
    "    res = accuracy_score(y_test, y_pred)\n",
    "    print(\"Step Size: \" + str(step) + \", Accuracy: \" + str(res))\n",
    "    acc.append(res)\n",
    "    n_cls.append(size)"
   ]
  },
  {
   "cell_type": "code",
   "execution_count": null,
   "metadata": {},
   "outputs": [],
   "source": [
    "plt.plot(n_cls, acc)\n",
    "plt.xlabel('Number of clusters')\n",
    "plt.ylabel('Validation Set Accuracy')\n",
    "plt.title('Number of Clusters Optimization')\n",
    "plt.ylim([0, 1])"
   ]
  },
  {
   "cell_type": "markdown",
   "metadata": {},
   "source": [
    "## Classifier optimization"
   ]
  },
  {
   "cell_type": "code",
   "execution_count": 15,
   "metadata": {},
   "outputs": [
    {
     "name": "stdout",
     "output_type": "stream",
     "text": [
      "Support Vector Machine accuracy: 0.38181818181818183\n",
      "Naive Bayes accuracy: 0.5474747474747474\n",
      "MLPClassifier accuracy: 0.6262626262626263\n",
      "Random Forest accuracy: 0.3797979797979798\n",
      "AdaBoostClassifier accuracy: 0.20404040404040405\n",
      "GaussianProcess accuracy: 0.5616161616161616\n",
      "DecisionTree accuracy: 0.2404040404040404\n",
      "KNearest accuracy: 0.42828282828282827\n"
     ]
    }
   ],
   "source": [
    "models = [('Support Vector Machine', SVC()), \n",
    "          ('Naive Bayes', GaussianNB()), \n",
    "          ('MLPClassifier',  MLPClassifier()), \n",
    "          ('Random Forest', RandomForestClassifier()), \n",
    "          ('AdaBoostClassifier', AdaBoostClassifier()),\n",
    "          ('GaussianProcess', GaussianProcessClassifier()),\n",
    "          ('DecisionTree', DecisionTreeClassifier()),\n",
    "          ('KNearest',  KNeighborsClassifier())]\n",
    "results = []\n",
    "names = []\n",
    "for name, model in models:\n",
    "    clf = model.fit(svm_train, y_train)\n",
    "    y_pred = clf.predict(svm_test)\n",
    "    res = accuracy_score(y_test, y_pred)\n",
    "    results.append(res)\n",
    "    names.append(name)\n",
    "    print(str(name) + ' accuracy: ' + str(res))"
   ]
  },
  {
   "cell_type": "code",
   "execution_count": 16,
   "metadata": {},
   "outputs": [
    {
     "data": {
      "image/png": "[encoded data removed]",
      "text/plain": [
       "<Figure size 432x288 with 1 Axes>"
      ]
     },
     "metadata": {
      "needs_background": "light"
     },
     "output_type": "display_data"
    }
   ],
   "source": [
    "plt.title('Algorithm Comparison')\n",
    "plt.xticks(rotation=90)\n",
    "plt.ylabel('Accuracy')\n",
    "plt.xlabel('Classifiers')\n",
    "plt.plot(names, results)\n",
    "plt.ylim([0, 1])\n",
    "plt.show()"
   ]
  },
  {
   "cell_type": "markdown",
   "metadata": {},
   "source": [
    "## MLP Classifier Optimization"
   ]
  },
  {
   "cell_type": "code",
   "execution_count": 17,
   "metadata": {},
   "outputs": [],
   "source": [
    "le = preprocessing.LabelEncoder()\n",
    "train = le.fit_transform(y_train)\n",
    "enc = le.fit_transform(y_test)"
   ]
  },
  {
   "cell_type": "code",
   "execution_count": 18,
   "metadata": {},
   "outputs": [
    {
     "data": {
      "application/vnd.jupyter.widget-view+json": {
       "model_id": "",
       "version_major": 2,
       "version_minor": 0
      },
      "text/plain": [
       "HBox(children=(IntProgress(value=0, description='Optimization Progress', max=84, style=ProgressStyle(descripti…"
      ]
     },
     "metadata": {},
     "output_type": "display_data"
    },
    {
     "name": "stdout",
     "output_type": "stream",
     "text": [
      "Generation 1 - Current best internal CV score: 0.5947303921568627\n",
      "Generation 2 - Current best internal CV score: 0.5947303921568627\n",
      "Generation 3 - Current best internal CV score: 0.5947303921568627\n",
      "Generation 4 - Current best internal CV score: 0.5947303921568627\n",
      "Generation 5 - Current best internal CV score: 0.5947303921568627\n",
      "\n",
      "Best pipeline: MLPClassifier(input_matrix, activation=tanh, alpha=0.00556, hidden_layer_sizes=(100,), solver=adam)\n"
     ]
    },
    {
     "data": {
      "text/plain": [
       "TPOTClassifier(config_dict={'sklearn.neural_network.MLPClassifier': {'activation': ['identity',\n",
       "                                                                                    'logistic',\n",
       "                                                                                    'tanh',\n",
       "                                                                                    'relu'],\n",
       "                                                                     'alpha': [1e-05,\n",
       "                                                                               0.0011200000000000001,\n",
       "                                                                               0.00223,\n",
       "                                                                               0.0033400000000000005,\n",
       "                                                                               0.00445,\n",
       "                                                                               0.00556,\n",
       "                                                                               0.006670000000000001,\n",
       "                                                                               0.0077800000000000005,\n",
       "                                                                               0.00889,\n",
       "                                                                               0.01],\n",
       "                                                                     'hidden_layer_sizes': [(100,),\n",
       "                                                                                            (50,\n",
       "                                                                                             50),\n",
       "                                                                                            (20,\n",
       "                                                                                             70),\n",
       "                                                                                            (70,\n",
       "                                                                                             20)],\n",
       "                                                                     'solver': ['lbfgs',\n",
       "                                                                                'sgd',\n",
       "                                                                                'adam']}},\n",
       "               crossover_rate=0.1, cv=4, disable_update_check=False,\n",
       "               early_stop=12, generations=5, max_eval_time_mins=5,\n",
       "               max_time_mins=None, memory=None, mutation_rate=0.9, n_jobs=1,\n",
       "               offspring_size=12, periodic_checkpoint_folder=None,\n",
       "               population_size=24, random_state=None, scoring='accuracy',\n",
       "               subsample=1.0, template=None, use_dask=False, verbosity=2,\n",
       "               warm_start=False)"
      ]
     },
     "execution_count": 18,
     "metadata": {},
     "output_type": "execute_result"
    }
   ],
   "source": [
    "parameters = {'solver': ['lbfgs', 'sgd', 'adam'],\n",
    "              'activation': ['identity', 'logistic', 'tanh', 'relu'],\n",
    "              'hidden_layer_sizes' : [(100,), (50, 50), (20, 70), (70, 20)],\n",
    "              'alpha': list(np.linspace(0.00001, 0.01, 10, dtype = float))}\n",
    "               \n",
    "tpot_classifier = TPOTClassifier(generations= 5, population_size= 24, offspring_size= 12,\n",
    "                                 verbosity= 2, early_stop= 12,\n",
    "                                 config_dict= {'sklearn.neural_network.MLPClassifier': parameters}, \n",
    "                                 cv = 4, scoring = 'accuracy')\n",
    "tpot_classifier.fit(np.array(svm_train), train)"
   ]
  },
  {
   "cell_type": "code",
   "execution_count": 20,
   "metadata": {},
   "outputs": [
    {
     "name": "stdout",
     "output_type": "stream",
     "text": [
      "0.6080808080808081\n"
     ]
    }
   ],
   "source": [
    "acc6 = tpot_classifier.score(np.array(svm_test), enc)\n",
    "print(acc6)"
   ]
  },
  {
   "cell_type": "code",
   "execution_count": 21,
   "metadata": {},
   "outputs": [
    {
     "data": {
      "text/plain": [
       "Pipeline(memory=None,\n",
       "         steps=[('mlpclassifier',\n",
       "                 MLPClassifier(activation='tanh', alpha=0.00556,\n",
       "                               batch_size='auto', beta_1=0.9, beta_2=0.999,\n",
       "                               early_stopping=False, epsilon=1e-08,\n",
       "                               hidden_layer_sizes=(100,),\n",
       "                               learning_rate='constant',\n",
       "                               learning_rate_init=0.001, max_iter=200,\n",
       "                               momentum=0.9, n_iter_no_change=10,\n",
       "                               nesterovs_momentum=True, power_t=0.5,\n",
       "                               random_state=None, shuffle=True, solver='adam',\n",
       "                               tol=0.0001, validation_fraction=0.1,\n",
       "                               verbose=False, warm_start=False))],\n",
       "         verbose=False)"
      ]
     },
     "execution_count": 21,
     "metadata": {},
     "output_type": "execute_result"
    }
   ],
   "source": [
    "tpot_classifier.fitted_pipeline_"
   ]
  }
 ],
 "metadata": {
  "kernelspec": {
   "display_name": "Python 3",
   "language": "python",
   "name": "python3"
  },
  "language_info": {
   "codemirror_mode": {
    "name": "ipython",
    "version": 3
   },
   "file_extension": ".py",
   "mimetype": "text/x-python",
   "name": "python",
   "nbconvert_exporter": "python",
   "pygments_lexer": "ipython3",
   "version": "3.7.3"
  },
  "toc": {
   "base_numbering": 1,
   "nav_menu": {},
   "number_sections": true,
   "sideBar": true,
   "skip_h1_title": true,
   "title_cell": "Table of Contents",
   "title_sidebar": "Contents",
   "toc_cell": true,
   "toc_position": {},
   "toc_section_display": true,
   "toc_window_display": false
  },
  "varInspector": {
   "cols": {
    "lenName": 16,
    "lenType": 16,
    "lenVar": 40
   },
   "kernels_config": {
    "python": {
     "delete_cmd_postfix": "",
     "delete_cmd_prefix": "del ",
     "library": "var_list.py",
     "varRefreshCmd": "print(var_dic_list())"
    },
    "r": {
     "delete_cmd_postfix": ") ",
     "delete_cmd_prefix": "rm(",
     "library": "var_list.r",
     "varRefreshCmd": "cat(var_dic_list()) "
    }
   },
   "types_to_exclude": [
    "module",
    "function",
    "builtin_function_or_method",
    "instance",
    "_Feature"
   ],
   "window_display": false
  }
 },
 "nbformat": 4,
 "nbformat_minor": 2
}
