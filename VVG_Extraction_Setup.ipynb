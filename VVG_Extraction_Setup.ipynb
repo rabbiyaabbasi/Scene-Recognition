{
 "cells": [
  {
   "cell_type": "markdown",
   "metadata": {
    "toc": true
   },
   "source": [
    "<h1>Table of Contents<span class=\"tocSkip\"></span></h1>\n",
    "<div class=\"toc\"><ul class=\"toc-item\"><li><span><a href=\"#Loading-feature-vectors\" data-toc-modified-id=\"Loading-feature-vectors-1\"><span class=\"toc-item-num\">1&nbsp;&nbsp;</span>Loading feature vectors</a></span></li><li><span><a href=\"#XGBoost-with-Grid-Search-example-(One-Hot-Encoded-Labels)\" data-toc-modified-id=\"XGBoost-with-Grid-Search-example-(One-Hot-Encoded-Labels)-2\"><span class=\"toc-item-num\">2&nbsp;&nbsp;</span>XGBoost with Grid Search example (One-Hot-Encoded Labels)</a></span></li><li><span><a href=\"#Random-Forest-Classifier-example-(Categorical-Labels)\" data-toc-modified-id=\"Random-Forest-Classifier-example-(Categorical-Labels)-3\"><span class=\"toc-item-num\">3&nbsp;&nbsp;</span>Random Forest Classifier example (Categorical Labels)</a></span></li></ul></div>"
   ]
  },
  {
   "cell_type": "markdown",
   "metadata": {},
   "source": [
    "# VGG Feature Vector"
   ]
  },
  {
   "cell_type": "markdown",
   "metadata": {},
   "source": [
    "Depending on the Machine Learning model you want to use, they might either accept categorical labels (eg. Random Forest) or one-hot-encoded (eg. XGBoost) ones for their Y Train and Test Input. After running the first cell of this notebook, you can either pick categorical labels using train_labels and validation_labels or train_labels1 and validation_labels1 to use instead one-hot-encoding."
   ]
  },
  {
   "cell_type": "markdown",
   "metadata": {},
   "source": [
    "## Loading feature vectors"
   ]
  },
  {
   "cell_type": "code",
   "execution_count": null,
   "metadata": {},
   "outputs": [],
   "source": [
    "from sklearn import svm, metrics, datasets\n",
    "from sklearn.ensemble import RandomForestClassifier\n",
    "from sklearn.model_selection import GridSearchCV\n",
    "import numpy as np\n",
    "from keras.utils.np_utils import to_categorical\n",
    "\n",
    "\n",
    "nb_train_samples = 1200\n",
    "nb_validation_samples = 300\n",
    "\n",
    "train_data = np.load('bottleneck_features_train.npy')\n",
    "print(train_data.shape[1:])\n",
    "print(train_data.shape)\n",
    "train_labels1 = np.array(\n",
    "    [0] * (nb_train_samples // 15) + [1] * (nb_train_samples // 15) + [2] * (nb_train_samples // 15)\n",
    "+ [3] * (nb_train_samples // 15)+ [4] * (nb_train_samples // 15)+ [5] * (nb_train_samples // 15)\n",
    "+ [6] * (nb_train_samples // 15)+ [7] * (nb_train_samples // 15)+ [8] * (nb_train_samples // 15)\n",
    "+ [9] * (nb_train_samples // 15)+ [10] * (nb_train_samples // 15)+ [11] * (nb_train_samples // 15)\n",
    "+ [12] * (nb_train_samples // 15)+ [13] * (nb_train_samples // 15)+ [14] * (nb_train_samples // 15))\n",
    "\n",
    "validation_data = np.load('bottleneck_features_validation.npy')\n",
    "print(validation_data.shape[1:])\n",
    "print(validation_data.shape)\n",
    "validation_labels1 = np.array(\n",
    "    [0] * (nb_validation_samples // 15) + [1] * (nb_validation_samples // 15) + [2] * (nb_validation_samples // 15) + \n",
    "    [3] * (nb_validation_samples // 15) + [4] * (nb_validation_samples // 15) + [5] * (nb_validation_samples // 15) +\n",
    "    [6] * (nb_validation_samples // 15) + [7] * (nb_validation_samples // 15) + \n",
    "    [8] * (nb_validation_samples // 15) + [9] * (nb_validation_samples // 15) +\n",
    "    [10] * (nb_validation_samples // 15) + [11] * (nb_validation_samples // 15) +\n",
    "    [12] * (nb_validation_samples // 15) + [13] * (nb_validation_samples // 15) +\n",
    "    [14] * (nb_validation_samples // 15))\n",
    "\n",
    "train_labels = to_categorical(train_labels1)\n",
    "validation_labels = to_categorical(validation_labels1)"
   ]
  },
  {
   "cell_type": "markdown",
   "metadata": {},
   "source": [
    "## XGBoost with Grid Search example (One-Hot-Encoded Labels)"
   ]
  },
  {
   "cell_type": "code",
   "execution_count": null,
   "metadata": {},
   "outputs": [],
   "source": [
    "param_grid = [\n",
    "  {'C': [1, 10, 100, 1000], 'kernel': ['linear']},\n",
    "  {'C': [1, 10, 100, 1000], 'gamma': [0.001, 0.0001], 'kernel': ['rbf']},\n",
    " ]\n",
    "svc = svm.SVC()\n",
    "clf = GridSearchCV(svc, param_grid)\n",
    "clf.fit(np.reshape(train_data, (train_data.shape[0], -1)), train_labels1)\n",
    "\n",
    "y_pred = clf.predict(np.reshape(validation_data, (validation_data.shape[0], -1)))\n",
    "print(\"Classification report for - \\n{}:\\n{}\\n\".format(clf, metrics.classification_report(y_pred, \n",
    "                                                                                          validation_labels1)))"
   ]
  },
  {
   "cell_type": "markdown",
   "metadata": {},
   "source": [
    "## Random Forest Classifier example (Categorical Labels)"
   ]
  },
  {
   "cell_type": "code",
   "execution_count": null,
   "metadata": {},
   "outputs": [],
   "source": [
    "clf = RandomForestClassifier(n_estimators=500, random_state=104)\n",
    "clf.fit(np.reshape(train_data, (train_data.shape[0], -1)), train_labels)\n",
    "y_pred = clf.predict(np.reshape(validation_data, (validation_data.shape[0], -1)))\n",
    "print(\"Classification report for - \\n{}:\\n{}\\n\".format(clf, metrics.classification_report(y_pred, \n",
    "                                                                                          validation_labels)))"
   ]
  }
 ],
 "metadata": {
  "kernelspec": {
   "display_name": "Python 3",
   "language": "python",
   "name": "python3"
  },
  "language_info": {
   "codemirror_mode": {
    "name": "ipython",
    "version": 3
   },
   "file_extension": ".py",
   "mimetype": "text/x-python",
   "name": "python",
   "nbconvert_exporter": "python",
   "pygments_lexer": "ipython3",
   "version": "3.7.3"
  },
  "toc": {
   "base_numbering": 1,
   "nav_menu": {},
   "number_sections": true,
   "sideBar": true,
   "skip_h1_title": true,
   "title_cell": "Table of Contents",
   "title_sidebar": "Contents",
   "toc_cell": true,
   "toc_position": {},
   "toc_section_display": true,
   "toc_window_display": false
  },
  "varInspector": {
   "cols": {
    "lenName": 16,
    "lenType": 16,
    "lenVar": 40
   },
   "kernels_config": {
    "python": {
     "delete_cmd_postfix": "",
     "delete_cmd_prefix": "del ",
     "library": "var_list.py",
     "varRefreshCmd": "print(var_dic_list())"
    },
    "r": {
     "delete_cmd_postfix": ") ",
     "delete_cmd_prefix": "rm(",
     "library": "var_list.r",
     "varRefreshCmd": "cat(var_dic_list()) "
    }
   },
   "types_to_exclude": [
    "module",
    "function",
    "builtin_function_or_method",
    "instance",
    "_Feature"
   ],
   "window_display": false
  }
 },
 "nbformat": 4,
 "nbformat_minor": 2
}
